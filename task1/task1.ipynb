{
 "cells": [
  {
   "cell_type": "code",
   "execution_count": null,
   "id": "8a40a63b-d31a-4087-9d3b-b45c15463381",
   "metadata": {},
   "outputs": [],
   "source": [
    "import pandas as pd\n",
    "import numpy as np"
   ]
  },
  {
   "cell_type": "code",
   "execution_count": null,
   "id": "70d4179c-43cb-40fb-bfb3-e5bed4b7e978",
   "metadata": {},
   "outputs": [],
   "source": [
    "data=pd.read_csv(r'C:\\Users\\DELL\\Desktop\\Titanic-Dataset.csv')"
   ]
  },
  {
   "cell_type": "code",
   "execution_count": null,
   "id": "3cab6e7b-0a3d-41e0-ba9f-54ff9c41eef5",
   "metadata": {},
   "outputs": [],
   "source": [
    "data"
   ]
  },
  {
   "cell_type": "code",
   "execution_count": null,
   "id": "a3060d7a-e16d-48e2-afa4-10f1d63b48f1",
   "metadata": {},
   "outputs": [],
   "source": [
    "print(data.head())"
   ]
  },
  {
   "cell_type": "code",
   "execution_count": null,
   "id": "ae537883-f964-4fce-a04e-a4b5db4818a7",
   "metadata": {},
   "outputs": [],
   "source": [
    "print(data.tail())"
   ]
  },
  {
   "cell_type": "code",
   "execution_count": null,
   "id": "8dd49f13-2112-48ee-9d41-4ca04f06c1c8",
   "metadata": {},
   "outputs": [],
   "source": [
    "print(data.isnull())"
   ]
  },
  {
   "cell_type": "code",
   "execution_count": null,
   "id": "237a8322-3ddd-499d-9df5-99839b5921b0",
   "metadata": {},
   "outputs": [],
   "source": [
    "print(data.describe())"
   ]
  },
  {
   "cell_type": "code",
   "execution_count": null,
   "id": "ea9cacd2-be5b-4047-ae3f-6c335ddb4128",
   "metadata": {},
   "outputs": [],
   "source": [
    "print(data.info())"
   ]
  },
  {
   "cell_type": "code",
   "execution_count": null,
   "id": "0b60189a-e688-40d4-be3d-f86c40c2c888",
   "metadata": {},
   "outputs": [],
   "source": [
    "data.isnull().sum()"
   ]
  },
  {
   "cell_type": "code",
   "execution_count": null,
   "id": "4455498a-7622-4e97-997a-3bdb2cb1550f",
   "metadata": {},
   "outputs": [],
   "source": [
    "data['Age']=data['Age'].fillna(data['Age'].median())"
   ]
  },
  {
   "cell_type": "code",
   "execution_count": null,
   "id": "cc16fc81-9d81-4901-af2e-43edbbe4ecd7",
   "metadata": {},
   "outputs": [],
   "source": [
    "data.drop('Cabin',axis=1,inplace=True)"
   ]
  },
  {
   "cell_type": "code",
   "execution_count": null,
   "id": "7d2af6d0-8222-4541-afa5-28ba38538aad",
   "metadata": {},
   "outputs": [],
   "source": [
    "data['Embarked']=data['Embarked'].fillna(data['Embarked'].mode()[0])"
   ]
  },
  {
   "cell_type": "code",
   "execution_count": null,
   "id": "b27fdd45-f53a-4029-8b9b-4228ff4ebf63",
   "metadata": {},
   "outputs": [],
   "source": [
    "data.isnull().sum()"
   ]
  },
  {
   "cell_type": "code",
   "execution_count": null,
   "id": "9b718707-c7fd-4583-adbf-5500ce74ec20",
   "metadata": {},
   "outputs": [],
   "source": [
    "data['Sex'].map({'male':0,'female':1})"
   ]
  },
  {
   "cell_type": "code",
   "execution_count": null,
   "id": "96d80049-03cf-48db-bb07-1373ca88851c",
   "metadata": {},
   "outputs": [],
   "source": [
    "data=pd.get_dummies(data,columns=['Embarked'],drop_first=True)"
   ]
  },
  {
   "cell_type": "code",
   "execution_count": null,
   "id": "ab0ff787-f3fd-45a1-bd40-6327fe3a53fb",
   "metadata": {},
   "outputs": [],
   "source": [
    "data"
   ]
  },
  {
   "cell_type": "code",
   "execution_count": null,
   "id": "b17d6f0b-9928-4c8e-b04b-0881f56443ab",
   "metadata": {},
   "outputs": [],
   "source": [
    "from sklearn.preprocessing import StandardScaler"
   ]
  },
  {
   "cell_type": "code",
   "execution_count": null,
   "id": "fdb72d6d-8565-4d6d-a82e-1df0347f617c",
   "metadata": {},
   "outputs": [],
   "source": [
    "scaler=StandardScaler()"
   ]
  },
  {
   "cell_type": "code",
   "execution_count": null,
   "id": "0c17ec21-af6b-42a3-8f77-47d7fdaeb0a0",
   "metadata": {},
   "outputs": [],
   "source": [
    "data[['Age','Fare']]=scaler.fit_transform(data[['Age','Fare']])"
   ]
  },
  {
   "cell_type": "code",
   "execution_count": null,
   "id": "26475ff5-be8e-4d08-8fdf-9b2bd6548cd2",
   "metadata": {},
   "outputs": [],
   "source": [
    "import seaborn as sb"
   ]
  },
  {
   "cell_type": "code",
   "execution_count": null,
   "id": "2871e7d5-0fc7-4e3e-9083-3444410ecabe",
   "metadata": {},
   "outputs": [],
   "source": [
    "import matplotlib.pyplot as plt"
   ]
  },
  {
   "cell_type": "code",
   "execution_count": null,
   "id": "87538f48-49f6-4db0-8103-193cbe5eb2e8",
   "metadata": {},
   "outputs": [],
   "source": [
    "plt.figure(figsize=(10,4))\n",
    "plt.subplot(1,2,1)\n",
    "sb.boxplot(x=data['Age'])\n",
    "plt.title('Age Outliers')\n",
    "plt.subplot(1,2,2)\n",
    "sb.boxplot(x=data['Fare'])\n",
    "plt.title('Fare Outliers')\n",
    "plt.tight_layout()\n",
    "plt.show()"
   ]
  },
  {
   "cell_type": "code",
   "execution_count": null,
   "id": "834841a0-a852-4b90-ac0d-04632a9a17ec",
   "metadata": {},
   "outputs": [],
   "source": [
    "def remove_outliers(df,column):\n",
    "    q1=df[column].quantile(0.25)\n",
    "    q3=df[column].quantile(0.75)\n",
    "    iqr=q3-q1\n",
    "    lower=q1-1.5*iqr\n",
    "    upper=q3+1.5*iqr\n",
    "    return df[(df[column]>=lower)&(df[column]<=upper)]\n",
    "\n",
    "data=remove_outliers(data,'Age')\n",
    "data=remove_outliers(data,'Fare')\n",
    "    "
   ]
  },
  {
   "cell_type": "code",
   "execution_count": null,
   "id": "189bc91b-8de9-43c9-b96b-290537bc67d1",
   "metadata": {},
   "outputs": [],
   "source": [
    "print('shape after outlier removal',data.shape)"
   ]
  },
  {
   "cell_type": "code",
   "execution_count": null,
   "id": "6758f603-93d4-4467-a3fb-189909d2db40",
   "metadata": {},
   "outputs": [],
   "source": [
    "print(data[['Age','Fare']].describe())"
   ]
  },
  {
   "cell_type": "code",
   "execution_count": null,
   "id": "cb89c3d4-a060-4e4a-a40f-15b2f4bc1867",
   "metadata": {},
   "outputs": [],
   "source": [
    "plt.figure(figsize=(10,4))\n",
    "plt.subplot(1,2,1)\n",
    "sb.boxplot(x=data['Age'])\n",
    "plt.title('Age Outliers')\n",
    "plt.subplot(1,2,2)\n",
    "sb.boxplot(x=data['Fare'])\n",
    "plt.title('Fare Outliers')\n",
    "plt.tight_layout()\n",
    "plt.show()"
   ]
  },
  {
   "cell_type": "code",
   "execution_count": null,
   "id": "800a823c-8f22-4d02-82e0-88ab9093f0c5",
   "metadata": {},
   "outputs": [],
   "source": [
    "print(data.head())"
   ]
  },
  {
   "cell_type": "code",
   "execution_count": null,
   "id": "80b62b4b-9872-450e-a140-490d1947b5c2",
   "metadata": {},
   "outputs": [],
   "source": []
  }
 ],
 "metadata": {
  "kernelspec": {
   "display_name": "Python 3 (ipykernel)",
   "language": "python",
   "name": "python3"
  },
  "language_info": {
   "codemirror_mode": {
    "name": "ipython",
    "version": 3
   },
   "file_extension": ".py",
   "mimetype": "text/x-python",
   "name": "python",
   "nbconvert_exporter": "python",
   "pygments_lexer": "ipython3",
   "version": "3.9.6"
  }
 },
 "nbformat": 4,
 "nbformat_minor": 5
}
